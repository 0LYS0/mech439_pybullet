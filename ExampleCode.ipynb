{
 "cells": [
  {
   "cell_type": "code",
   "execution_count": null,
   "id": "7bebbf60",
   "metadata": {
    "pycharm": {
     "name": "#%%\n"
    }
   },
   "outputs": [],
   "source": [
    "import numpy as np\n",
    "import matplotlib.pyplot as plt\n",
    "from src.core.pybullet_core import PybulletCore\n",
    "from src.utils import *"
   ]
  },
  {
   "cell_type": "markdown",
   "id": "9af6e99c",
   "metadata": {
    "pycharm": {
     "name": "#%% md\n"
    }
   },
   "source": [
    "# Open Pybullet GUI"
   ]
  },
  {
   "cell_type": "code",
   "execution_count": null,
   "id": "d610617b",
   "metadata": {
    "pycharm": {
     "name": "#%%\n"
    }
   },
   "outputs": [],
   "source": [
    "pb = PybulletCore()\n",
    "pb.connect(robot_name = \"indy7_v2\", joint_limit=True, constraint_visualization = False)"
   ]
  },
  {
   "cell_type": "markdown",
   "id": "655bd39a",
   "metadata": {
    "pycharm": {
     "name": "#%% md\n"
    }
   },
   "source": [
    "# Move robot"
   ]
  },
  {
   "cell_type": "code",
   "execution_count": null,
   "id": "82a917c0-fa43-41db-9f97-188f332ff3cd",
   "metadata": {},
   "outputs": [],
   "source": [
    "pb.MoveRobot([0, 15, -105, 0, -90, 0], degree=True, verbose=True)"
   ]
  }
 ],
 "metadata": {
  "kernelspec": {
   "display_name": "Python 3 (ipykernel)",
   "language": "python",
   "name": "python3"
  },
  "language_info": {
   "codemirror_mode": {
    "name": "ipython",
    "version": 3
   },
   "file_extension": ".py",
   "mimetype": "text/x-python",
   "name": "python",
   "nbconvert_exporter": "python",
   "pygments_lexer": "ipython3",
   "version": "3.8.19"
  },
  "toc": {
   "base_numbering": 1,
   "nav_menu": {},
   "number_sections": true,
   "sideBar": false,
   "skip_h1_title": false,
   "title_cell": "Table of Contents",
   "title_sidebar": "Contents",
   "toc_cell": true,
   "toc_position": {},
   "toc_section_display": true,
   "toc_window_display": true
  }
 },
 "nbformat": 4,
 "nbformat_minor": 5
}
