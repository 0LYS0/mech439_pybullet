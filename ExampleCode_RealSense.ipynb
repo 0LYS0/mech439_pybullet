{
 "cells": [
  {
   "cell_type": "code",
   "execution_count": null,
   "id": "ced134c5",
   "metadata": {},
   "outputs": [],
   "source": [
    "import numpy as np\n",
    "import matplotlib.pyplot as plt\n",
    "from src.utils.realsense_utils import RealSense"
   ]
  },
  {
   "cell_type": "code",
   "execution_count": null,
   "id": "fc032601",
   "metadata": {},
   "outputs": [],
   "source": [
    "cam = RealSense('146222250683')"
   ]
  },
  {
   "cell_type": "code",
   "execution_count": null,
   "id": "1f862add",
   "metadata": {},
   "outputs": [],
   "source": [
    "rgb_resolution = (1280, 800)\n",
    "depth_resolution = (1280, 720)\n",
    "\n",
    "cam.initialize((1280, 800), (1280, 720))"
   ]
  },
  {
   "cell_type": "code",
   "execution_count": null,
   "id": "967b4bde",
   "metadata": {},
   "outputs": [],
   "source": [
    "rgb_image = cam.get_color('plt')\n",
    "\n",
    "plt.figure()\n",
    "plt.imshow(rgb_image)\n",
    "plt.show()"
   ]
  },
  {
   "cell_type": "code",
   "execution_count": null,
   "id": "e602cd4c",
   "metadata": {},
   "outputs": [],
   "source": [
    "depth_map, depth_image = cam.get_depth('plt')\n",
    "\n",
    "# depth_map: NxM numpy array of depth values\n",
    "# depth_image: NxMx3 numpy array to visualize depth_map\n",
    "\n",
    "plt.figure()\n",
    "plt.imshow(depth_image)\n",
    "plt.show()"
   ]
  },
  {
   "cell_type": "code",
   "execution_count": null,
   "id": "bc9975fc",
   "metadata": {},
   "outputs": [],
   "source": [
    "rgb_image, depth_map, depth_image = cam.get_color_depth('plt')\n",
    "\n",
    "plt.figure()\n",
    "plt.subplot(121)\n",
    "plt.imshow(rgb_image)\n",
    "plt.subplot(122)\n",
    "plt.imshow(depth_image)\n",
    "plt.show()"
   ]
  },
  {
   "cell_type": "code",
   "execution_count": null,
   "id": "c855ebf1",
   "metadata": {},
   "outputs": [],
   "source": [
    "camera_config = cam.get_config()\n",
    "print(\"Camera intrinsic matrix:\\n\", camera_config[0])\n",
    "print(\"Lens distortion coefficient: \", camera_config[1])\n",
    "print(\"Depth scale: \", camera_config[2])"
   ]
  },
  {
   "cell_type": "code",
   "execution_count": null,
   "id": "aa0c61ae",
   "metadata": {},
   "outputs": [],
   "source": []
  }
 ],
 "metadata": {
  "kernelspec": {
   "display_name": "Python 3 (ipykernel)",
   "language": "python",
   "name": "python3"
  },
  "language_info": {
   "codemirror_mode": {
    "name": "ipython",
    "version": 3
   },
   "file_extension": ".py",
   "mimetype": "text/x-python",
   "name": "python",
   "nbconvert_exporter": "python",
   "pygments_lexer": "ipython3",
   "version": "3.8.19"
  }
 },
 "nbformat": 4,
 "nbformat_minor": 5
}
